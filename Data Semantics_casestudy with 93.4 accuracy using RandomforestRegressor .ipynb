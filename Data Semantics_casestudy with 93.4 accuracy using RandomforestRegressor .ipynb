{
 "cells": [
  {
   "cell_type": "code",
   "execution_count": 74,
   "metadata": {},
   "outputs": [],
   "source": [
    "import pandas as pd\n",
    "import numpy as np"
   ]
  },
  {
   "cell_type": "code",
   "execution_count": 75,
   "metadata": {},
   "outputs": [],
   "source": [
    "df=pd.read_csv('Data Semantics CaseStudy.csv')"
   ]
  },
  {
   "cell_type": "code",
   "execution_count": 76,
   "metadata": {},
   "outputs": [
    {
     "data": {
      "text/html": [
       "<div>\n",
       "<style scoped>\n",
       "    .dataframe tbody tr th:only-of-type {\n",
       "        vertical-align: middle;\n",
       "    }\n",
       "\n",
       "    .dataframe tbody tr th {\n",
       "        vertical-align: top;\n",
       "    }\n",
       "\n",
       "    .dataframe thead th {\n",
       "        text-align: right;\n",
       "    }\n",
       "</style>\n",
       "<table border=\"1\" class=\"dataframe\">\n",
       "  <thead>\n",
       "    <tr style=\"text-align: right;\">\n",
       "      <th></th>\n",
       "      <th>ORDERTYPE</th>\n",
       "      <th>CUSTOMER</th>\n",
       "      <th>ITEMCODE</th>\n",
       "      <th>ORDERDATE</th>\n",
       "      <th>ORDERNO</th>\n",
       "      <th>OREDEREDQUANTITY</th>\n",
       "      <th>DELIVERYDATE</th>\n",
       "      <th>INVOICENO</th>\n",
       "      <th>DELIVEREDQUANTITY</th>\n",
       "    </tr>\n",
       "  </thead>\n",
       "  <tbody>\n",
       "    <tr>\n",
       "      <th>0</th>\n",
       "      <td>ES1</td>\n",
       "      <td>C00237</td>\n",
       "      <td>IT0001433</td>\n",
       "      <td>15-JAN-2014 12.00.00.000000000 AM</td>\n",
       "      <td>219856</td>\n",
       "      <td>15.0</td>\n",
       "      <td>16-FEB-2014 12.00.00.000000000 AM</td>\n",
       "      <td>21300726</td>\n",
       "      <td>15.0</td>\n",
       "    </tr>\n",
       "    <tr>\n",
       "      <th>1</th>\n",
       "      <td>ES1</td>\n",
       "      <td>C00237</td>\n",
       "      <td>IT0001016</td>\n",
       "      <td>15-JAN-2014 12.00.00.000000000 AM</td>\n",
       "      <td>219857</td>\n",
       "      <td>750.0</td>\n",
       "      <td>11-FEB-2014 12.00.00.000000000 AM</td>\n",
       "      <td>21300626</td>\n",
       "      <td>750.0</td>\n",
       "    </tr>\n",
       "    <tr>\n",
       "      <th>2</th>\n",
       "      <td>ES1</td>\n",
       "      <td>C00237</td>\n",
       "      <td>IT0001024</td>\n",
       "      <td>15-JAN-2014 12.00.00.000000000 AM</td>\n",
       "      <td>219857</td>\n",
       "      <td>320.0</td>\n",
       "      <td>16-FEB-2014 12.00.00.000000000 AM</td>\n",
       "      <td>21300727</td>\n",
       "      <td>320.0</td>\n",
       "    </tr>\n",
       "    <tr>\n",
       "      <th>3</th>\n",
       "      <td>ES1</td>\n",
       "      <td>C00237</td>\n",
       "      <td>IT0001084</td>\n",
       "      <td>15-JAN-2014 12.00.00.000000000 AM</td>\n",
       "      <td>219857</td>\n",
       "      <td>250.0</td>\n",
       "      <td>11-FEB-2014 12.00.00.000000000 AM</td>\n",
       "      <td>21300626</td>\n",
       "      <td>250.0</td>\n",
       "    </tr>\n",
       "    <tr>\n",
       "      <th>4</th>\n",
       "      <td>ES3</td>\n",
       "      <td>C00196</td>\n",
       "      <td>IT0001076</td>\n",
       "      <td>27-MAR-2014 12.00.00.000000000 AM</td>\n",
       "      <td>255311</td>\n",
       "      <td>250.0</td>\n",
       "      <td>28-MAR-2014 12.00.00.000000000 AM</td>\n",
       "      <td>21301499</td>\n",
       "      <td>250.0</td>\n",
       "    </tr>\n",
       "  </tbody>\n",
       "</table>\n",
       "</div>"
      ],
      "text/plain": [
       "  ORDERTYPE CUSTOMER   ITEMCODE                          ORDERDATE  ORDERNO  \\\n",
       "0       ES1   C00237  IT0001433  15-JAN-2014 12.00.00.000000000 AM   219856   \n",
       "1       ES1   C00237  IT0001016  15-JAN-2014 12.00.00.000000000 AM   219857   \n",
       "2       ES1   C00237  IT0001024  15-JAN-2014 12.00.00.000000000 AM   219857   \n",
       "3       ES1   C00237  IT0001084  15-JAN-2014 12.00.00.000000000 AM   219857   \n",
       "4       ES3   C00196  IT0001076  27-MAR-2014 12.00.00.000000000 AM   255311   \n",
       "\n",
       "   OREDEREDQUANTITY                       DELIVERYDATE  INVOICENO  \\\n",
       "0              15.0  16-FEB-2014 12.00.00.000000000 AM   21300726   \n",
       "1             750.0  11-FEB-2014 12.00.00.000000000 AM   21300626   \n",
       "2             320.0  16-FEB-2014 12.00.00.000000000 AM   21300727   \n",
       "3             250.0  11-FEB-2014 12.00.00.000000000 AM   21300626   \n",
       "4             250.0  28-MAR-2014 12.00.00.000000000 AM   21301499   \n",
       "\n",
       "   DELIVEREDQUANTITY  \n",
       "0               15.0  \n",
       "1              750.0  \n",
       "2              320.0  \n",
       "3              250.0  \n",
       "4              250.0  "
      ]
     },
     "execution_count": 76,
     "metadata": {},
     "output_type": "execute_result"
    }
   ],
   "source": [
    "df.head()"
   ]
  },
  {
   "cell_type": "code",
   "execution_count": 77,
   "metadata": {},
   "outputs": [
    {
     "data": {
      "text/plain": [
       "(51290, 9)"
      ]
     },
     "execution_count": 77,
     "metadata": {},
     "output_type": "execute_result"
    }
   ],
   "source": [
    "# Get the shape of data\n",
    "df.shape"
   ]
  },
  {
   "cell_type": "code",
   "execution_count": 78,
   "metadata": {},
   "outputs": [
    {
     "data": {
      "text/plain": [
       "ORDERTYPE            0\n",
       "CUSTOMER             0\n",
       "ITEMCODE             0\n",
       "ORDERDATE            0\n",
       "ORDERNO              0\n",
       "OREDEREDQUANTITY     0\n",
       "DELIVERYDATE         0\n",
       "INVOICENO            0\n",
       "DELIVEREDQUANTITY    0\n",
       "dtype: int64"
      ]
     },
     "execution_count": 78,
     "metadata": {},
     "output_type": "execute_result"
    }
   ],
   "source": [
    "# Checking any null values\n",
    "df.isnull().sum()"
   ]
  },
  {
   "cell_type": "code",
   "execution_count": 79,
   "metadata": {},
   "outputs": [
    {
     "data": {
      "text/html": [
       "<div>\n",
       "<style scoped>\n",
       "    .dataframe tbody tr th:only-of-type {\n",
       "        vertical-align: middle;\n",
       "    }\n",
       "\n",
       "    .dataframe tbody tr th {\n",
       "        vertical-align: top;\n",
       "    }\n",
       "\n",
       "    .dataframe thead th {\n",
       "        text-align: right;\n",
       "    }\n",
       "</style>\n",
       "<table border=\"1\" class=\"dataframe\">\n",
       "  <thead>\n",
       "    <tr style=\"text-align: right;\">\n",
       "      <th></th>\n",
       "      <th>ORDERNO</th>\n",
       "      <th>OREDEREDQUANTITY</th>\n",
       "      <th>INVOICENO</th>\n",
       "      <th>DELIVEREDQUANTITY</th>\n",
       "    </tr>\n",
       "  </thead>\n",
       "  <tbody>\n",
       "    <tr>\n",
       "      <th>count</th>\n",
       "      <td>51290.000000</td>\n",
       "      <td>51290.000000</td>\n",
       "      <td>5.129000e+04</td>\n",
       "      <td>51290.000000</td>\n",
       "    </tr>\n",
       "    <tr>\n",
       "      <th>mean</th>\n",
       "      <td>261530.257731</td>\n",
       "      <td>804.710887</td>\n",
       "      <td>2.147239e+07</td>\n",
       "      <td>323.485761</td>\n",
       "    </tr>\n",
       "    <tr>\n",
       "      <th>std</th>\n",
       "      <td>18684.183311</td>\n",
       "      <td>2718.225194</td>\n",
       "      <td>1.112629e+05</td>\n",
       "      <td>1604.866920</td>\n",
       "    </tr>\n",
       "    <tr>\n",
       "      <th>min</th>\n",
       "      <td>219685.000000</td>\n",
       "      <td>-3500.000000</td>\n",
       "      <td>2.130000e+07</td>\n",
       "      <td>-3500.000000</td>\n",
       "    </tr>\n",
       "    <tr>\n",
       "      <th>25%</th>\n",
       "      <td>257207.000000</td>\n",
       "      <td>72.000000</td>\n",
       "      <td>2.140218e+07</td>\n",
       "      <td>56.000000</td>\n",
       "    </tr>\n",
       "    <tr>\n",
       "      <th>50%</th>\n",
       "      <td>260408.000000</td>\n",
       "      <td>250.000000</td>\n",
       "      <td>2.150270e+07</td>\n",
       "      <td>160.000000</td>\n",
       "    </tr>\n",
       "    <tr>\n",
       "      <th>75%</th>\n",
       "      <td>263897.000000</td>\n",
       "      <td>960.000000</td>\n",
       "      <td>2.160213e+07</td>\n",
       "      <td>320.000000</td>\n",
       "    </tr>\n",
       "    <tr>\n",
       "      <th>max</th>\n",
       "      <td>842035.000000</td>\n",
       "      <td>120000.000000</td>\n",
       "      <td>2.161415e+07</td>\n",
       "      <td>75000.000000</td>\n",
       "    </tr>\n",
       "  </tbody>\n",
       "</table>\n",
       "</div>"
      ],
      "text/plain": [
       "             ORDERNO  OREDEREDQUANTITY     INVOICENO  DELIVEREDQUANTITY\n",
       "count   51290.000000      51290.000000  5.129000e+04       51290.000000\n",
       "mean   261530.257731        804.710887  2.147239e+07         323.485761\n",
       "std     18684.183311       2718.225194  1.112629e+05        1604.866920\n",
       "min    219685.000000      -3500.000000  2.130000e+07       -3500.000000\n",
       "25%    257207.000000         72.000000  2.140218e+07          56.000000\n",
       "50%    260408.000000        250.000000  2.150270e+07         160.000000\n",
       "75%    263897.000000        960.000000  2.160213e+07         320.000000\n",
       "max    842035.000000     120000.000000  2.161415e+07       75000.000000"
      ]
     },
     "execution_count": 79,
     "metadata": {},
     "output_type": "execute_result"
    }
   ],
   "source": [
    "## Summary statistics for numerical fields\n",
    "df.describe() # Negative values are there and will be removed after feature seelction"
   ]
  },
  {
   "cell_type": "code",
   "execution_count": 80,
   "metadata": {},
   "outputs": [],
   "source": [
    "##Removing 'ORDERNO','DELIVERYDATE','INVOICENO','DELIVEREDQUANTITY', since required to predict orderquantity ie inormation value.\n",
    "\n",
    "df.drop(columns=['ORDERNO','DELIVERYDATE','INVOICENO','DELIVEREDQUANTITY'],inplace=True)"
   ]
  },
  {
   "cell_type": "code",
   "execution_count": 81,
   "metadata": {},
   "outputs": [
    {
     "data": {
      "text/html": [
       "<div>\n",
       "<style scoped>\n",
       "    .dataframe tbody tr th:only-of-type {\n",
       "        vertical-align: middle;\n",
       "    }\n",
       "\n",
       "    .dataframe tbody tr th {\n",
       "        vertical-align: top;\n",
       "    }\n",
       "\n",
       "    .dataframe thead th {\n",
       "        text-align: right;\n",
       "    }\n",
       "</style>\n",
       "<table border=\"1\" class=\"dataframe\">\n",
       "  <thead>\n",
       "    <tr style=\"text-align: right;\">\n",
       "      <th></th>\n",
       "      <th>ORDERTYPE</th>\n",
       "      <th>CUSTOMER</th>\n",
       "      <th>ITEMCODE</th>\n",
       "      <th>ORDERDATE</th>\n",
       "      <th>OREDEREDQUANTITY</th>\n",
       "    </tr>\n",
       "  </thead>\n",
       "  <tbody>\n",
       "    <tr>\n",
       "      <th>0</th>\n",
       "      <td>ES1</td>\n",
       "      <td>C00237</td>\n",
       "      <td>IT0001433</td>\n",
       "      <td>15-JAN-2014 12.00.00.000000000 AM</td>\n",
       "      <td>15.0</td>\n",
       "    </tr>\n",
       "    <tr>\n",
       "      <th>1</th>\n",
       "      <td>ES1</td>\n",
       "      <td>C00237</td>\n",
       "      <td>IT0001016</td>\n",
       "      <td>15-JAN-2014 12.00.00.000000000 AM</td>\n",
       "      <td>750.0</td>\n",
       "    </tr>\n",
       "    <tr>\n",
       "      <th>2</th>\n",
       "      <td>ES1</td>\n",
       "      <td>C00237</td>\n",
       "      <td>IT0001024</td>\n",
       "      <td>15-JAN-2014 12.00.00.000000000 AM</td>\n",
       "      <td>320.0</td>\n",
       "    </tr>\n",
       "    <tr>\n",
       "      <th>3</th>\n",
       "      <td>ES1</td>\n",
       "      <td>C00237</td>\n",
       "      <td>IT0001084</td>\n",
       "      <td>15-JAN-2014 12.00.00.000000000 AM</td>\n",
       "      <td>250.0</td>\n",
       "    </tr>\n",
       "    <tr>\n",
       "      <th>4</th>\n",
       "      <td>ES3</td>\n",
       "      <td>C00196</td>\n",
       "      <td>IT0001076</td>\n",
       "      <td>27-MAR-2014 12.00.00.000000000 AM</td>\n",
       "      <td>250.0</td>\n",
       "    </tr>\n",
       "  </tbody>\n",
       "</table>\n",
       "</div>"
      ],
      "text/plain": [
       "  ORDERTYPE CUSTOMER   ITEMCODE                          ORDERDATE  \\\n",
       "0       ES1   C00237  IT0001433  15-JAN-2014 12.00.00.000000000 AM   \n",
       "1       ES1   C00237  IT0001016  15-JAN-2014 12.00.00.000000000 AM   \n",
       "2       ES1   C00237  IT0001024  15-JAN-2014 12.00.00.000000000 AM   \n",
       "3       ES1   C00237  IT0001084  15-JAN-2014 12.00.00.000000000 AM   \n",
       "4       ES3   C00196  IT0001076  27-MAR-2014 12.00.00.000000000 AM   \n",
       "\n",
       "   OREDEREDQUANTITY  \n",
       "0              15.0  \n",
       "1             750.0  \n",
       "2             320.0  \n",
       "3             250.0  \n",
       "4             250.0  "
      ]
     },
     "execution_count": 81,
     "metadata": {},
     "output_type": "execute_result"
    }
   ],
   "source": [
    "df.head()"
   ]
  },
  {
   "cell_type": "code",
   "execution_count": 82,
   "metadata": {},
   "outputs": [
    {
     "data": {
      "text/plain": [
       "33"
      ]
     },
     "execution_count": 82,
     "metadata": {},
     "output_type": "execute_result"
    }
   ],
   "source": [
    "# Here date and month are important and that contributes more & year and other stuff doesnot matter.\n",
    "\n",
    "# In 'ORDERDATE' column getting one field and checking length and accordingly will slice what ever i want for model building.\n",
    "\n",
    "str='15-JAN-2014 12.00.00.000000000 AM'\n",
    "len(str)"
   ]
  },
  {
   "cell_type": "code",
   "execution_count": 83,
   "metadata": {},
   "outputs": [],
   "source": [
    "# Changing 'ORDERDATE' column to only date & month(Since if it is deployed also ,it will be more feasible & can give the same)\n",
    "\n",
    "df['ORDERDATE']=df.ORDERDATE.str.slice(0,6)"
   ]
  },
  {
   "cell_type": "code",
   "execution_count": 84,
   "metadata": {},
   "outputs": [],
   "source": [
    "#df['ORDERDATE']=df['ORDERDATE'].map({'29-FEB':'1-MAR'})"
   ]
  },
  {
   "cell_type": "code",
   "execution_count": 85,
   "metadata": {},
   "outputs": [],
   "source": [
    "# 29th feburauy wont be there in year 2017 so as part of data cleaning changed to '1st March'\n",
    "\n",
    "df.ORDERDATE.replace(['29-FEB'],['1-MAR'],inplace=True)"
   ]
  },
  {
   "cell_type": "code",
   "execution_count": 86,
   "metadata": {},
   "outputs": [
    {
     "data": {
      "text/plain": [
       "05-MAR    349\n",
       "09-FEB    333\n",
       "11-FEB    319\n",
       "23-MAY    297\n",
       "10-MAR    293\n",
       "16-MAR    288\n",
       "07-APR    278\n",
       "13-APR    276\n",
       "24-MAR    276\n",
       "18-FEB    270\n",
       "14-SEP    266\n",
       "02-FEB    254\n",
       "13-AUG    253\n",
       "29-SEP    252\n",
       "08-JUN    250\n",
       "28-MAY    250\n",
       "06-JAN    250\n",
       "26-OCT    248\n",
       "28-JAN    247\n",
       "15-DEC    247\n",
       "31-JAN    245\n",
       "12-OCT    240\n",
       "18-JAN    240\n",
       "21-APR    237\n",
       "21-JAN    235\n",
       "26-MAY    229\n",
       "21-SEP    227\n",
       "18-MAY    226\n",
       "03-NOV    226\n",
       "19-JAN    221\n",
       "         ... \n",
       "24-DEC     70\n",
       "19-JUN     70\n",
       "31-JUL     67\n",
       "01-DEC     67\n",
       "09-JUL     66\n",
       "26-DEC     63\n",
       "11-SEP     62\n",
       "20-FEB     62\n",
       "14-OCT     61\n",
       "20-MAY     61\n",
       "05-JUL     59\n",
       "13-SEP     58\n",
       "15-NOV     57\n",
       "28-AUG     57\n",
       "28-JUN     56\n",
       "30-SEP     55\n",
       "20-JUN     53\n",
       "27-FEB     53\n",
       "23-OCT     52\n",
       "25-DEC     48\n",
       "31-OCT     48\n",
       "24-SEP     44\n",
       "29-APR     43\n",
       "02-JAN     43\n",
       "02-DEC     41\n",
       "04-OCT     40\n",
       "07-JUL     38\n",
       "31-DEC     31\n",
       "1-MAR      24\n",
       "15-OCT     22\n",
       "Name: ORDERDATE, Length: 365, dtype: int64"
      ]
     },
     "execution_count": 86,
     "metadata": {},
     "output_type": "execute_result"
    }
   ],
   "source": [
    "df.ORDERDATE.value_counts() # Checking whether ['29-FEB'] still exists or not."
   ]
  },
  {
   "cell_type": "code",
   "execution_count": 87,
   "metadata": {},
   "outputs": [],
   "source": [
    "# Coverting all categorical features to numbers\n",
    "\n",
    "from sklearn.preprocessing import LabelEncoder"
   ]
  },
  {
   "cell_type": "code",
   "execution_count": 88,
   "metadata": {},
   "outputs": [],
   "source": [
    "l=LabelEncoder()"
   ]
  },
  {
   "cell_type": "code",
   "execution_count": 89,
   "metadata": {},
   "outputs": [],
   "source": [
    "df['ORDERTYPE']=l.fit_transform(df['ORDERTYPE'])\n",
    "df['CUSTOMER']=l.fit_transform(df['CUSTOMER'])\n",
    "df['ITEMCODE']=l.fit_transform(df['ITEMCODE'])\n",
    "df['ORDERDATE']=l.fit_transform(df['ORDERDATE'])"
   ]
  },
  {
   "cell_type": "code",
   "execution_count": 90,
   "metadata": {},
   "outputs": [
    {
     "data": {
      "text/html": [
       "<div>\n",
       "<style scoped>\n",
       "    .dataframe tbody tr th:only-of-type {\n",
       "        vertical-align: middle;\n",
       "    }\n",
       "\n",
       "    .dataframe tbody tr th {\n",
       "        vertical-align: top;\n",
       "    }\n",
       "\n",
       "    .dataframe thead th {\n",
       "        text-align: right;\n",
       "    }\n",
       "</style>\n",
       "<table border=\"1\" class=\"dataframe\">\n",
       "  <thead>\n",
       "    <tr style=\"text-align: right;\">\n",
       "      <th></th>\n",
       "      <th>ORDERTYPE</th>\n",
       "      <th>CUSTOMER</th>\n",
       "      <th>ITEMCODE</th>\n",
       "      <th>ORDERDATE</th>\n",
       "      <th>OREDEREDQUANTITY</th>\n",
       "    </tr>\n",
       "  </thead>\n",
       "  <tbody>\n",
       "    <tr>\n",
       "      <th>0</th>\n",
       "      <td>0</td>\n",
       "      <td>136</td>\n",
       "      <td>432</td>\n",
       "      <td>172</td>\n",
       "      <td>15.0</td>\n",
       "    </tr>\n",
       "    <tr>\n",
       "      <th>1</th>\n",
       "      <td>0</td>\n",
       "      <td>136</td>\n",
       "      <td>15</td>\n",
       "      <td>172</td>\n",
       "      <td>750.0</td>\n",
       "    </tr>\n",
       "    <tr>\n",
       "      <th>2</th>\n",
       "      <td>0</td>\n",
       "      <td>136</td>\n",
       "      <td>23</td>\n",
       "      <td>172</td>\n",
       "      <td>320.0</td>\n",
       "    </tr>\n",
       "    <tr>\n",
       "      <th>3</th>\n",
       "      <td>0</td>\n",
       "      <td>136</td>\n",
       "      <td>83</td>\n",
       "      <td>172</td>\n",
       "      <td>250.0</td>\n",
       "    </tr>\n",
       "    <tr>\n",
       "      <th>4</th>\n",
       "      <td>1</td>\n",
       "      <td>95</td>\n",
       "      <td>75</td>\n",
       "      <td>319</td>\n",
       "      <td>250.0</td>\n",
       "    </tr>\n",
       "  </tbody>\n",
       "</table>\n",
       "</div>"
      ],
      "text/plain": [
       "   ORDERTYPE  CUSTOMER  ITEMCODE  ORDERDATE  OREDEREDQUANTITY\n",
       "0          0       136       432        172              15.0\n",
       "1          0       136        15        172             750.0\n",
       "2          0       136        23        172             320.0\n",
       "3          0       136        83        172             250.0\n",
       "4          1        95        75        319             250.0"
      ]
     },
     "execution_count": 90,
     "metadata": {},
     "output_type": "execute_result"
    }
   ],
   "source": [
    "df.head()"
   ]
  },
  {
   "cell_type": "code",
   "execution_count": 91,
   "metadata": {},
   "outputs": [
    {
     "data": {
      "text/plain": [
       "<matplotlib.axes._subplots.AxesSubplot at 0x26d954d77f0>"
      ]
     },
     "execution_count": 91,
     "metadata": {},
     "output_type": "execute_result"
    }
   ],
   "source": [
    "df.boxplot()"
   ]
  },
  {
   "cell_type": "code",
   "execution_count": 92,
   "metadata": {},
   "outputs": [],
   "source": [
    "# By summary of staistics,negative values are there and that rows can be dropped or replaced with 0 \n",
    "# '-'can replaced with empty space using regex.(#Checking with domain experts we can place it accordingly )\n",
    "\n",
    "# Here i replaced all negative values with 0. \n",
    "\n",
    "df[df['OREDEREDQUANTITY']<0] =0"
   ]
  },
  {
   "cell_type": "code",
   "execution_count": 93,
   "metadata": {},
   "outputs": [
    {
     "data": {
      "text/html": [
       "<div>\n",
       "<style scoped>\n",
       "    .dataframe tbody tr th:only-of-type {\n",
       "        vertical-align: middle;\n",
       "    }\n",
       "\n",
       "    .dataframe tbody tr th {\n",
       "        vertical-align: top;\n",
       "    }\n",
       "\n",
       "    .dataframe thead th {\n",
       "        text-align: right;\n",
       "    }\n",
       "</style>\n",
       "<table border=\"1\" class=\"dataframe\">\n",
       "  <thead>\n",
       "    <tr style=\"text-align: right;\">\n",
       "      <th></th>\n",
       "      <th>ORDERTYPE</th>\n",
       "      <th>CUSTOMER</th>\n",
       "      <th>ITEMCODE</th>\n",
       "      <th>ORDERDATE</th>\n",
       "      <th>OREDEREDQUANTITY</th>\n",
       "    </tr>\n",
       "  </thead>\n",
       "  <tbody>\n",
       "    <tr>\n",
       "      <th>count</th>\n",
       "      <td>51290.000000</td>\n",
       "      <td>51290.000000</td>\n",
       "      <td>51290.000000</td>\n",
       "      <td>51290.000000</td>\n",
       "      <td>51290.000000</td>\n",
       "    </tr>\n",
       "    <tr>\n",
       "      <th>mean</th>\n",
       "      <td>0.244707</td>\n",
       "      <td>136.195945</td>\n",
       "      <td>136.893313</td>\n",
       "      <td>178.316241</td>\n",
       "      <td>805.616802</td>\n",
       "    </tr>\n",
       "    <tr>\n",
       "      <th>std</th>\n",
       "      <td>0.431547</td>\n",
       "      <td>80.449751</td>\n",
       "      <td>142.185213</td>\n",
       "      <td>104.168389</td>\n",
       "      <td>2717.814670</td>\n",
       "    </tr>\n",
       "    <tr>\n",
       "      <th>min</th>\n",
       "      <td>0.000000</td>\n",
       "      <td>0.000000</td>\n",
       "      <td>0.000000</td>\n",
       "      <td>0.000000</td>\n",
       "      <td>0.000000</td>\n",
       "    </tr>\n",
       "    <tr>\n",
       "      <th>25%</th>\n",
       "      <td>0.000000</td>\n",
       "      <td>58.000000</td>\n",
       "      <td>26.000000</td>\n",
       "      <td>90.000000</td>\n",
       "      <td>72.000000</td>\n",
       "    </tr>\n",
       "    <tr>\n",
       "      <th>50%</th>\n",
       "      <td>0.000000</td>\n",
       "      <td>144.000000</td>\n",
       "      <td>87.000000</td>\n",
       "      <td>180.000000</td>\n",
       "      <td>250.000000</td>\n",
       "    </tr>\n",
       "    <tr>\n",
       "      <th>75%</th>\n",
       "      <td>0.000000</td>\n",
       "      <td>211.000000</td>\n",
       "      <td>158.000000</td>\n",
       "      <td>267.000000</td>\n",
       "      <td>960.000000</td>\n",
       "    </tr>\n",
       "    <tr>\n",
       "      <th>max</th>\n",
       "      <td>3.000000</td>\n",
       "      <td>278.000000</td>\n",
       "      <td>527.000000</td>\n",
       "      <td>364.000000</td>\n",
       "      <td>120000.000000</td>\n",
       "    </tr>\n",
       "  </tbody>\n",
       "</table>\n",
       "</div>"
      ],
      "text/plain": [
       "          ORDERTYPE      CUSTOMER      ITEMCODE     ORDERDATE  \\\n",
       "count  51290.000000  51290.000000  51290.000000  51290.000000   \n",
       "mean       0.244707    136.195945    136.893313    178.316241   \n",
       "std        0.431547     80.449751    142.185213    104.168389   \n",
       "min        0.000000      0.000000      0.000000      0.000000   \n",
       "25%        0.000000     58.000000     26.000000     90.000000   \n",
       "50%        0.000000    144.000000     87.000000    180.000000   \n",
       "75%        0.000000    211.000000    158.000000    267.000000   \n",
       "max        3.000000    278.000000    527.000000    364.000000   \n",
       "\n",
       "       OREDEREDQUANTITY  \n",
       "count      51290.000000  \n",
       "mean         805.616802  \n",
       "std         2717.814670  \n",
       "min            0.000000  \n",
       "25%           72.000000  \n",
       "50%          250.000000  \n",
       "75%          960.000000  \n",
       "max       120000.000000  "
      ]
     },
     "execution_count": 93,
     "metadata": {},
     "output_type": "execute_result"
    }
   ],
   "source": [
    "df.describe()"
   ]
  },
  {
   "cell_type": "code",
   "execution_count": 94,
   "metadata": {},
   "outputs": [],
   "source": [
    "# Selecting the predictor variables\n",
    "\n",
    "x=df.iloc[:,:-1].values"
   ]
  },
  {
   "cell_type": "code",
   "execution_count": 95,
   "metadata": {},
   "outputs": [],
   "source": [
    "# Selecting class variable\n",
    "\n",
    "y=df.iloc[:,4].values"
   ]
  },
  {
   "cell_type": "code",
   "execution_count": 96,
   "metadata": {},
   "outputs": [
    {
     "name": "stderr",
     "output_type": "stream",
     "text": [
      "C:\\Users\\reddyvari.n\\AppData\\Local\\Continuum\\anaconda3\\lib\\site-packages\\sklearn\\cross_validation.py:41: DeprecationWarning: This module was deprecated in version 0.18 in favor of the model_selection module into which all the refactored classes and functions are moved. Also note that the interface of the new CV iterators are different from that of this module. This module will be removed in 0.20.\n",
      "  \"This module will be removed in 0.20.\", DeprecationWarning)\n"
     ]
    }
   ],
   "source": [
    "# Splitting the data in train and test.\n",
    "\n",
    "from sklearn.cross_validation import train_test_split"
   ]
  },
  {
   "cell_type": "code",
   "execution_count": 97,
   "metadata": {},
   "outputs": [],
   "source": [
    "xtrain,xtest,ytrain,ytest=train_test_split(x,y,test_size=0.3,random_state=10)"
   ]
  },
  {
   "cell_type": "code",
   "execution_count": 98,
   "metadata": {},
   "outputs": [],
   "source": [
    "# Selecting the Classifier\n",
    "\n",
    "from sklearn.ensemble import RandomForestRegressor"
   ]
  },
  {
   "cell_type": "code",
   "execution_count": 99,
   "metadata": {},
   "outputs": [],
   "source": [
    "r=RandomForestRegressor()"
   ]
  },
  {
   "cell_type": "code",
   "execution_count": 100,
   "metadata": {},
   "outputs": [
    {
     "data": {
      "text/plain": [
       "RandomForestRegressor(bootstrap=True, criterion='mse', max_depth=None,\n",
       "           max_features='auto', max_leaf_nodes=None,\n",
       "           min_impurity_decrease=0.0, min_impurity_split=None,\n",
       "           min_samples_leaf=1, min_samples_split=2,\n",
       "           min_weight_fraction_leaf=0.0, n_estimators=10, n_jobs=1,\n",
       "           oob_score=False, random_state=None, verbose=0, warm_start=False)"
      ]
     },
     "execution_count": 100,
     "metadata": {},
     "output_type": "execute_result"
    }
   ],
   "source": [
    "r.fit(xtrain,ytrain)"
   ]
  },
  {
   "cell_type": "code",
   "execution_count": 101,
   "metadata": {},
   "outputs": [],
   "source": [
    "ypredict=r.predict(xtest)"
   ]
  },
  {
   "cell_type": "code",
   "execution_count": 102,
   "metadata": {},
   "outputs": [],
   "source": [
    "# Using R-sqaured or coefficient of deteremination is a statistical measure of how close the data are to the fitted \n",
    "# regression line\n",
    "\n",
    "from sklearn.metrics import r2_score,mean_squared_error"
   ]
  },
  {
   "cell_type": "code",
   "execution_count": 103,
   "metadata": {},
   "outputs": [
    {
     "data": {
      "text/plain": [
       "0.9342739505980229"
      ]
     },
     "execution_count": 103,
     "metadata": {},
     "output_type": "execute_result"
    }
   ],
   "source": [
    "r2_score(ypredict,ytest)"
   ]
  },
  {
   "cell_type": "code",
   "execution_count": 106,
   "metadata": {},
   "outputs": [],
   "source": [
    "#mean_error=np.sqrt(mean_squared_error(ypredict,ytest))"
   ]
  },
  {
   "cell_type": "code",
   "execution_count": 107,
   "metadata": {},
   "outputs": [],
   "source": [
    "#mean_error"
   ]
  },
  {
   "cell_type": "code",
   "execution_count": null,
   "metadata": {},
   "outputs": [],
   "source": []
  },
  {
   "cell_type": "code",
   "execution_count": null,
   "metadata": {},
   "outputs": [],
   "source": []
  },
  {
   "cell_type": "code",
   "execution_count": null,
   "metadata": {},
   "outputs": [],
   "source": []
  }
 ],
 "metadata": {
  "kernelspec": {
   "display_name": "Python 3",
   "language": "python",
   "name": "python3"
  },
  "language_info": {
   "codemirror_mode": {
    "name": "ipython",
    "version": 3
   },
   "file_extension": ".py",
   "mimetype": "text/x-python",
   "name": "python",
   "nbconvert_exporter": "python",
   "pygments_lexer": "ipython3",
   "version": "3.6.4"
  }
 },
 "nbformat": 4,
 "nbformat_minor": 2
}
