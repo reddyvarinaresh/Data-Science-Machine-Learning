{
 "cells": [
  {
   "cell_type": "code",
   "execution_count": 3,
   "metadata": {},
   "outputs": [],
   "source": [
    "import pandas as pd\n",
    "import numpy as np"
   ]
  },
  {
   "cell_type": "code",
   "execution_count": 4,
   "metadata": {},
   "outputs": [],
   "source": [
    "df=pd.read_csv('Data Semantics CaseStudy.csv')"
   ]
  },
  {
   "cell_type": "code",
   "execution_count": 5,
   "metadata": {},
   "outputs": [
    {
     "data": {
      "text/html": [
       "<div>\n",
       "<style scoped>\n",
       "    .dataframe tbody tr th:only-of-type {\n",
       "        vertical-align: middle;\n",
       "    }\n",
       "\n",
       "    .dataframe tbody tr th {\n",
       "        vertical-align: top;\n",
       "    }\n",
       "\n",
       "    .dataframe thead th {\n",
       "        text-align: right;\n",
       "    }\n",
       "</style>\n",
       "<table border=\"1\" class=\"dataframe\">\n",
       "  <thead>\n",
       "    <tr style=\"text-align: right;\">\n",
       "      <th></th>\n",
       "      <th>ORDERTYPE</th>\n",
       "      <th>CUSTOMER</th>\n",
       "      <th>ITEMCODE</th>\n",
       "      <th>ORDERDATE</th>\n",
       "      <th>ORDERNO</th>\n",
       "      <th>OREDEREDQUANTITY</th>\n",
       "      <th>DELIVERYDATE</th>\n",
       "      <th>INVOICENO</th>\n",
       "      <th>DELIVEREDQUANTITY</th>\n",
       "    </tr>\n",
       "  </thead>\n",
       "  <tbody>\n",
       "    <tr>\n",
       "      <th>0</th>\n",
       "      <td>ES1</td>\n",
       "      <td>C00237</td>\n",
       "      <td>IT0001433</td>\n",
       "      <td>15-JAN-2014 12.00.00.000000000 AM</td>\n",
       "      <td>219856</td>\n",
       "      <td>15.0</td>\n",
       "      <td>16-FEB-2014 12.00.00.000000000 AM</td>\n",
       "      <td>21300726</td>\n",
       "      <td>15.0</td>\n",
       "    </tr>\n",
       "    <tr>\n",
       "      <th>1</th>\n",
       "      <td>ES1</td>\n",
       "      <td>C00237</td>\n",
       "      <td>IT0001016</td>\n",
       "      <td>15-JAN-2014 12.00.00.000000000 AM</td>\n",
       "      <td>219857</td>\n",
       "      <td>750.0</td>\n",
       "      <td>11-FEB-2014 12.00.00.000000000 AM</td>\n",
       "      <td>21300626</td>\n",
       "      <td>750.0</td>\n",
       "    </tr>\n",
       "    <tr>\n",
       "      <th>2</th>\n",
       "      <td>ES1</td>\n",
       "      <td>C00237</td>\n",
       "      <td>IT0001024</td>\n",
       "      <td>15-JAN-2014 12.00.00.000000000 AM</td>\n",
       "      <td>219857</td>\n",
       "      <td>320.0</td>\n",
       "      <td>16-FEB-2014 12.00.00.000000000 AM</td>\n",
       "      <td>21300727</td>\n",
       "      <td>320.0</td>\n",
       "    </tr>\n",
       "    <tr>\n",
       "      <th>3</th>\n",
       "      <td>ES1</td>\n",
       "      <td>C00237</td>\n",
       "      <td>IT0001084</td>\n",
       "      <td>15-JAN-2014 12.00.00.000000000 AM</td>\n",
       "      <td>219857</td>\n",
       "      <td>250.0</td>\n",
       "      <td>11-FEB-2014 12.00.00.000000000 AM</td>\n",
       "      <td>21300626</td>\n",
       "      <td>250.0</td>\n",
       "    </tr>\n",
       "    <tr>\n",
       "      <th>4</th>\n",
       "      <td>ES3</td>\n",
       "      <td>C00196</td>\n",
       "      <td>IT0001076</td>\n",
       "      <td>27-MAR-2014 12.00.00.000000000 AM</td>\n",
       "      <td>255311</td>\n",
       "      <td>250.0</td>\n",
       "      <td>28-MAR-2014 12.00.00.000000000 AM</td>\n",
       "      <td>21301499</td>\n",
       "      <td>250.0</td>\n",
       "    </tr>\n",
       "  </tbody>\n",
       "</table>\n",
       "</div>"
      ],
      "text/plain": [
       "  ORDERTYPE CUSTOMER   ITEMCODE                          ORDERDATE  ORDERNO  \\\n",
       "0       ES1   C00237  IT0001433  15-JAN-2014 12.00.00.000000000 AM   219856   \n",
       "1       ES1   C00237  IT0001016  15-JAN-2014 12.00.00.000000000 AM   219857   \n",
       "2       ES1   C00237  IT0001024  15-JAN-2014 12.00.00.000000000 AM   219857   \n",
       "3       ES1   C00237  IT0001084  15-JAN-2014 12.00.00.000000000 AM   219857   \n",
       "4       ES3   C00196  IT0001076  27-MAR-2014 12.00.00.000000000 AM   255311   \n",
       "\n",
       "   OREDEREDQUANTITY                       DELIVERYDATE  INVOICENO  \\\n",
       "0              15.0  16-FEB-2014 12.00.00.000000000 AM   21300726   \n",
       "1             750.0  11-FEB-2014 12.00.00.000000000 AM   21300626   \n",
       "2             320.0  16-FEB-2014 12.00.00.000000000 AM   21300727   \n",
       "3             250.0  11-FEB-2014 12.00.00.000000000 AM   21300626   \n",
       "4             250.0  28-MAR-2014 12.00.00.000000000 AM   21301499   \n",
       "\n",
       "   DELIVEREDQUANTITY  \n",
       "0               15.0  \n",
       "1              750.0  \n",
       "2              320.0  \n",
       "3              250.0  \n",
       "4              250.0  "
      ]
     },
     "execution_count": 5,
     "metadata": {},
     "output_type": "execute_result"
    }
   ],
   "source": [
    "df.head()"
   ]
  },
  {
   "cell_type": "code",
   "execution_count": 6,
   "metadata": {},
   "outputs": [
    {
     "data": {
      "text/plain": [
       "(51290, 9)"
      ]
     },
     "execution_count": 6,
     "metadata": {},
     "output_type": "execute_result"
    }
   ],
   "source": [
    "# Get the shape of data\n",
    "df.shape"
   ]
  },
  {
   "cell_type": "code",
   "execution_count": 7,
   "metadata": {},
   "outputs": [
    {
     "data": {
      "text/plain": [
       "ORDERTYPE            0\n",
       "CUSTOMER             0\n",
       "ITEMCODE             0\n",
       "ORDERDATE            0\n",
       "ORDERNO              0\n",
       "OREDEREDQUANTITY     0\n",
       "DELIVERYDATE         0\n",
       "INVOICENO            0\n",
       "DELIVEREDQUANTITY    0\n",
       "dtype: int64"
      ]
     },
     "execution_count": 7,
     "metadata": {},
     "output_type": "execute_result"
    }
   ],
   "source": [
    "# Checking any null values\n",
    "df.isnull().sum()"
   ]
  },
  {
   "cell_type": "code",
   "execution_count": 8,
   "metadata": {},
   "outputs": [
    {
     "data": {
      "text/html": [
       "<div>\n",
       "<style scoped>\n",
       "    .dataframe tbody tr th:only-of-type {\n",
       "        vertical-align: middle;\n",
       "    }\n",
       "\n",
       "    .dataframe tbody tr th {\n",
       "        vertical-align: top;\n",
       "    }\n",
       "\n",
       "    .dataframe thead th {\n",
       "        text-align: right;\n",
       "    }\n",
       "</style>\n",
       "<table border=\"1\" class=\"dataframe\">\n",
       "  <thead>\n",
       "    <tr style=\"text-align: right;\">\n",
       "      <th></th>\n",
       "      <th>ORDERNO</th>\n",
       "      <th>OREDEREDQUANTITY</th>\n",
       "      <th>INVOICENO</th>\n",
       "      <th>DELIVEREDQUANTITY</th>\n",
       "    </tr>\n",
       "  </thead>\n",
       "  <tbody>\n",
       "    <tr>\n",
       "      <th>count</th>\n",
       "      <td>51290.000000</td>\n",
       "      <td>51290.000000</td>\n",
       "      <td>5.129000e+04</td>\n",
       "      <td>51290.000000</td>\n",
       "    </tr>\n",
       "    <tr>\n",
       "      <th>mean</th>\n",
       "      <td>261530.257731</td>\n",
       "      <td>804.710887</td>\n",
       "      <td>2.147239e+07</td>\n",
       "      <td>323.485761</td>\n",
       "    </tr>\n",
       "    <tr>\n",
       "      <th>std</th>\n",
       "      <td>18684.183311</td>\n",
       "      <td>2718.225194</td>\n",
       "      <td>1.112629e+05</td>\n",
       "      <td>1604.866920</td>\n",
       "    </tr>\n",
       "    <tr>\n",
       "      <th>min</th>\n",
       "      <td>219685.000000</td>\n",
       "      <td>-3500.000000</td>\n",
       "      <td>2.130000e+07</td>\n",
       "      <td>-3500.000000</td>\n",
       "    </tr>\n",
       "    <tr>\n",
       "      <th>25%</th>\n",
       "      <td>257207.000000</td>\n",
       "      <td>72.000000</td>\n",
       "      <td>2.140218e+07</td>\n",
       "      <td>56.000000</td>\n",
       "    </tr>\n",
       "    <tr>\n",
       "      <th>50%</th>\n",
       "      <td>260408.000000</td>\n",
       "      <td>250.000000</td>\n",
       "      <td>2.150270e+07</td>\n",
       "      <td>160.000000</td>\n",
       "    </tr>\n",
       "    <tr>\n",
       "      <th>75%</th>\n",
       "      <td>263897.000000</td>\n",
       "      <td>960.000000</td>\n",
       "      <td>2.160213e+07</td>\n",
       "      <td>320.000000</td>\n",
       "    </tr>\n",
       "    <tr>\n",
       "      <th>max</th>\n",
       "      <td>842035.000000</td>\n",
       "      <td>120000.000000</td>\n",
       "      <td>2.161415e+07</td>\n",
       "      <td>75000.000000</td>\n",
       "    </tr>\n",
       "  </tbody>\n",
       "</table>\n",
       "</div>"
      ],
      "text/plain": [
       "             ORDERNO  OREDEREDQUANTITY     INVOICENO  DELIVEREDQUANTITY\n",
       "count   51290.000000      51290.000000  5.129000e+04       51290.000000\n",
       "mean   261530.257731        804.710887  2.147239e+07         323.485761\n",
       "std     18684.183311       2718.225194  1.112629e+05        1604.866920\n",
       "min    219685.000000      -3500.000000  2.130000e+07       -3500.000000\n",
       "25%    257207.000000         72.000000  2.140218e+07          56.000000\n",
       "50%    260408.000000        250.000000  2.150270e+07         160.000000\n",
       "75%    263897.000000        960.000000  2.160213e+07         320.000000\n",
       "max    842035.000000     120000.000000  2.161415e+07       75000.000000"
      ]
     },
     "execution_count": 8,
     "metadata": {},
     "output_type": "execute_result"
    }
   ],
   "source": [
    "## Summary statistics for numerical fields\n",
    "df.describe() # Negative values are there and will be removed after feature seelction"
   ]
  },
  {
   "cell_type": "code",
   "execution_count": 9,
   "metadata": {},
   "outputs": [],
   "source": [
    "##Removing 'ORDERNO','DELIVERYDATE','INVOICENO','DELIVEREDQUANTITY', since required to predict orderquantity ie inormation value.\n",
    "\n",
    "df.drop(columns=['ORDERNO','DELIVERYDATE','INVOICENO','DELIVEREDQUANTITY'],inplace=True)"
   ]
  },
  {
   "cell_type": "code",
   "execution_count": 10,
   "metadata": {},
   "outputs": [
    {
     "data": {
      "text/html": [
       "<div>\n",
       "<style scoped>\n",
       "    .dataframe tbody tr th:only-of-type {\n",
       "        vertical-align: middle;\n",
       "    }\n",
       "\n",
       "    .dataframe tbody tr th {\n",
       "        vertical-align: top;\n",
       "    }\n",
       "\n",
       "    .dataframe thead th {\n",
       "        text-align: right;\n",
       "    }\n",
       "</style>\n",
       "<table border=\"1\" class=\"dataframe\">\n",
       "  <thead>\n",
       "    <tr style=\"text-align: right;\">\n",
       "      <th></th>\n",
       "      <th>ORDERTYPE</th>\n",
       "      <th>CUSTOMER</th>\n",
       "      <th>ITEMCODE</th>\n",
       "      <th>ORDERDATE</th>\n",
       "      <th>OREDEREDQUANTITY</th>\n",
       "    </tr>\n",
       "  </thead>\n",
       "  <tbody>\n",
       "    <tr>\n",
       "      <th>0</th>\n",
       "      <td>ES1</td>\n",
       "      <td>C00237</td>\n",
       "      <td>IT0001433</td>\n",
       "      <td>15-JAN-2014 12.00.00.000000000 AM</td>\n",
       "      <td>15.0</td>\n",
       "    </tr>\n",
       "    <tr>\n",
       "      <th>1</th>\n",
       "      <td>ES1</td>\n",
       "      <td>C00237</td>\n",
       "      <td>IT0001016</td>\n",
       "      <td>15-JAN-2014 12.00.00.000000000 AM</td>\n",
       "      <td>750.0</td>\n",
       "    </tr>\n",
       "    <tr>\n",
       "      <th>2</th>\n",
       "      <td>ES1</td>\n",
       "      <td>C00237</td>\n",
       "      <td>IT0001024</td>\n",
       "      <td>15-JAN-2014 12.00.00.000000000 AM</td>\n",
       "      <td>320.0</td>\n",
       "    </tr>\n",
       "    <tr>\n",
       "      <th>3</th>\n",
       "      <td>ES1</td>\n",
       "      <td>C00237</td>\n",
       "      <td>IT0001084</td>\n",
       "      <td>15-JAN-2014 12.00.00.000000000 AM</td>\n",
       "      <td>250.0</td>\n",
       "    </tr>\n",
       "    <tr>\n",
       "      <th>4</th>\n",
       "      <td>ES3</td>\n",
       "      <td>C00196</td>\n",
       "      <td>IT0001076</td>\n",
       "      <td>27-MAR-2014 12.00.00.000000000 AM</td>\n",
       "      <td>250.0</td>\n",
       "    </tr>\n",
       "  </tbody>\n",
       "</table>\n",
       "</div>"
      ],
      "text/plain": [
       "  ORDERTYPE CUSTOMER   ITEMCODE                          ORDERDATE  \\\n",
       "0       ES1   C00237  IT0001433  15-JAN-2014 12.00.00.000000000 AM   \n",
       "1       ES1   C00237  IT0001016  15-JAN-2014 12.00.00.000000000 AM   \n",
       "2       ES1   C00237  IT0001024  15-JAN-2014 12.00.00.000000000 AM   \n",
       "3       ES1   C00237  IT0001084  15-JAN-2014 12.00.00.000000000 AM   \n",
       "4       ES3   C00196  IT0001076  27-MAR-2014 12.00.00.000000000 AM   \n",
       "\n",
       "   OREDEREDQUANTITY  \n",
       "0              15.0  \n",
       "1             750.0  \n",
       "2             320.0  \n",
       "3             250.0  \n",
       "4             250.0  "
      ]
     },
     "execution_count": 10,
     "metadata": {},
     "output_type": "execute_result"
    }
   ],
   "source": [
    "df.head()"
   ]
  },
  {
   "cell_type": "code",
   "execution_count": 11,
   "metadata": {},
   "outputs": [
    {
     "data": {
      "text/plain": [
       "33"
      ]
     },
     "execution_count": 11,
     "metadata": {},
     "output_type": "execute_result"
    }
   ],
   "source": [
    "# Here date and month are important and that contributes more & year and other stuff doesnot matter.\n",
    "\n",
    "# In 'ORDERDATE' column getting one field and checking length and accordingly will slice what ever i want for model building.\n",
    "\n",
    "str='15-JAN-2014 12.00.00.000000000 AM'\n",
    "len(str)"
   ]
  },
  {
   "cell_type": "code",
   "execution_count": 12,
   "metadata": {},
   "outputs": [],
   "source": [
    "# Changing 'ORDERDATE' column to only date & month(Since if it is deployed also ,it will be more feasible & can give the same)\n",
    "\n",
    "df['ORDERDATE']=df.ORDERDATE.str.slice(0,6)"
   ]
  },
  {
   "cell_type": "code",
   "execution_count": 13,
   "metadata": {},
   "outputs": [
    {
     "data": {
      "text/html": [
       "<div>\n",
       "<style scoped>\n",
       "    .dataframe tbody tr th:only-of-type {\n",
       "        vertical-align: middle;\n",
       "    }\n",
       "\n",
       "    .dataframe tbody tr th {\n",
       "        vertical-align: top;\n",
       "    }\n",
       "\n",
       "    .dataframe thead th {\n",
       "        text-align: right;\n",
       "    }\n",
       "</style>\n",
       "<table border=\"1\" class=\"dataframe\">\n",
       "  <thead>\n",
       "    <tr style=\"text-align: right;\">\n",
       "      <th></th>\n",
       "      <th>ORDERTYPE</th>\n",
       "      <th>CUSTOMER</th>\n",
       "      <th>ITEMCODE</th>\n",
       "      <th>ORDERDATE</th>\n",
       "      <th>OREDEREDQUANTITY</th>\n",
       "    </tr>\n",
       "  </thead>\n",
       "  <tbody>\n",
       "    <tr>\n",
       "      <th>0</th>\n",
       "      <td>ES1</td>\n",
       "      <td>C00237</td>\n",
       "      <td>IT0001433</td>\n",
       "      <td>15-JAN</td>\n",
       "      <td>15.0</td>\n",
       "    </tr>\n",
       "    <tr>\n",
       "      <th>1</th>\n",
       "      <td>ES1</td>\n",
       "      <td>C00237</td>\n",
       "      <td>IT0001016</td>\n",
       "      <td>15-JAN</td>\n",
       "      <td>750.0</td>\n",
       "    </tr>\n",
       "    <tr>\n",
       "      <th>2</th>\n",
       "      <td>ES1</td>\n",
       "      <td>C00237</td>\n",
       "      <td>IT0001024</td>\n",
       "      <td>15-JAN</td>\n",
       "      <td>320.0</td>\n",
       "    </tr>\n",
       "    <tr>\n",
       "      <th>3</th>\n",
       "      <td>ES1</td>\n",
       "      <td>C00237</td>\n",
       "      <td>IT0001084</td>\n",
       "      <td>15-JAN</td>\n",
       "      <td>250.0</td>\n",
       "    </tr>\n",
       "    <tr>\n",
       "      <th>4</th>\n",
       "      <td>ES3</td>\n",
       "      <td>C00196</td>\n",
       "      <td>IT0001076</td>\n",
       "      <td>27-MAR</td>\n",
       "      <td>250.0</td>\n",
       "    </tr>\n",
       "  </tbody>\n",
       "</table>\n",
       "</div>"
      ],
      "text/plain": [
       "  ORDERTYPE CUSTOMER   ITEMCODE ORDERDATE  OREDEREDQUANTITY\n",
       "0       ES1   C00237  IT0001433    15-JAN              15.0\n",
       "1       ES1   C00237  IT0001016    15-JAN             750.0\n",
       "2       ES1   C00237  IT0001024    15-JAN             320.0\n",
       "3       ES1   C00237  IT0001084    15-JAN             250.0\n",
       "4       ES3   C00196  IT0001076    27-MAR             250.0"
      ]
     },
     "execution_count": 13,
     "metadata": {},
     "output_type": "execute_result"
    }
   ],
   "source": [
    "df.head()"
   ]
  },
  {
   "cell_type": "code",
   "execution_count": 14,
   "metadata": {},
   "outputs": [],
   "source": [
    "# Coverting all categorical features to numbers\n",
    "\n",
    "from sklearn.preprocessing import LabelEncoder"
   ]
  },
  {
   "cell_type": "code",
   "execution_count": 15,
   "metadata": {},
   "outputs": [],
   "source": [
    "l=LabelEncoder()"
   ]
  },
  {
   "cell_type": "code",
   "execution_count": 16,
   "metadata": {},
   "outputs": [],
   "source": [
    "df['ORDERTYPE']=l.fit_transform(df['ORDERTYPE'])\n",
    "df['CUSTOMER']=l.fit_transform(df['CUSTOMER'])\n",
    "df['ITEMCODE']=l.fit_transform(df['ITEMCODE'])\n",
    "df['ORDERDATE']=l.fit_transform(df['ORDERDATE'])"
   ]
  },
  {
   "cell_type": "code",
   "execution_count": 17,
   "metadata": {},
   "outputs": [
    {
     "data": {
      "text/html": [
       "<div>\n",
       "<style scoped>\n",
       "    .dataframe tbody tr th:only-of-type {\n",
       "        vertical-align: middle;\n",
       "    }\n",
       "\n",
       "    .dataframe tbody tr th {\n",
       "        vertical-align: top;\n",
       "    }\n",
       "\n",
       "    .dataframe thead th {\n",
       "        text-align: right;\n",
       "    }\n",
       "</style>\n",
       "<table border=\"1\" class=\"dataframe\">\n",
       "  <thead>\n",
       "    <tr style=\"text-align: right;\">\n",
       "      <th></th>\n",
       "      <th>ORDERTYPE</th>\n",
       "      <th>CUSTOMER</th>\n",
       "      <th>ITEMCODE</th>\n",
       "      <th>ORDERDATE</th>\n",
       "      <th>OREDEREDQUANTITY</th>\n",
       "    </tr>\n",
       "  </thead>\n",
       "  <tbody>\n",
       "    <tr>\n",
       "      <th>0</th>\n",
       "      <td>0</td>\n",
       "      <td>136</td>\n",
       "      <td>432</td>\n",
       "      <td>171</td>\n",
       "      <td>15.0</td>\n",
       "    </tr>\n",
       "    <tr>\n",
       "      <th>1</th>\n",
       "      <td>0</td>\n",
       "      <td>136</td>\n",
       "      <td>15</td>\n",
       "      <td>171</td>\n",
       "      <td>750.0</td>\n",
       "    </tr>\n",
       "    <tr>\n",
       "      <th>2</th>\n",
       "      <td>0</td>\n",
       "      <td>136</td>\n",
       "      <td>23</td>\n",
       "      <td>171</td>\n",
       "      <td>320.0</td>\n",
       "    </tr>\n",
       "    <tr>\n",
       "      <th>3</th>\n",
       "      <td>0</td>\n",
       "      <td>136</td>\n",
       "      <td>83</td>\n",
       "      <td>171</td>\n",
       "      <td>250.0</td>\n",
       "    </tr>\n",
       "    <tr>\n",
       "      <th>4</th>\n",
       "      <td>1</td>\n",
       "      <td>95</td>\n",
       "      <td>75</td>\n",
       "      <td>318</td>\n",
       "      <td>250.0</td>\n",
       "    </tr>\n",
       "  </tbody>\n",
       "</table>\n",
       "</div>"
      ],
      "text/plain": [
       "   ORDERTYPE  CUSTOMER  ITEMCODE  ORDERDATE  OREDEREDQUANTITY\n",
       "0          0       136       432        171              15.0\n",
       "1          0       136        15        171             750.0\n",
       "2          0       136        23        171             320.0\n",
       "3          0       136        83        171             250.0\n",
       "4          1        95        75        318             250.0"
      ]
     },
     "execution_count": 17,
     "metadata": {},
     "output_type": "execute_result"
    }
   ],
   "source": [
    "df.head()"
   ]
  },
  {
   "cell_type": "code",
   "execution_count": 18,
   "metadata": {},
   "outputs": [
    {
     "data": {
      "text/plain": [
       "<matplotlib.axes._subplots.AxesSubplot at 0x23f58be5eb8>"
      ]
     },
     "execution_count": 18,
     "metadata": {},
     "output_type": "execute_result"
    }
   ],
   "source": [
    "df.boxplot()"
   ]
  },
  {
   "cell_type": "code",
   "execution_count": 19,
   "metadata": {},
   "outputs": [],
   "source": [
    "# By summary of staistics,negative values are there and that rows can be dropped or replaced with 0 \n",
    "# '-'can replaced with empty space using regex.(#Checking with domain experts we can place it accordingly )\n",
    "\n",
    "# Here i replaced all negative values with 0. \n",
    "\n",
    "df[df['OREDEREDQUANTITY']<0] =0"
   ]
  },
  {
   "cell_type": "code",
   "execution_count": 20,
   "metadata": {},
   "outputs": [
    {
     "data": {
      "text/html": [
       "<div>\n",
       "<style scoped>\n",
       "    .dataframe tbody tr th:only-of-type {\n",
       "        vertical-align: middle;\n",
       "    }\n",
       "\n",
       "    .dataframe tbody tr th {\n",
       "        vertical-align: top;\n",
       "    }\n",
       "\n",
       "    .dataframe thead th {\n",
       "        text-align: right;\n",
       "    }\n",
       "</style>\n",
       "<table border=\"1\" class=\"dataframe\">\n",
       "  <thead>\n",
       "    <tr style=\"text-align: right;\">\n",
       "      <th></th>\n",
       "      <th>ORDERTYPE</th>\n",
       "      <th>CUSTOMER</th>\n",
       "      <th>ITEMCODE</th>\n",
       "      <th>ORDERDATE</th>\n",
       "      <th>OREDEREDQUANTITY</th>\n",
       "    </tr>\n",
       "  </thead>\n",
       "  <tbody>\n",
       "    <tr>\n",
       "      <th>count</th>\n",
       "      <td>51290.000000</td>\n",
       "      <td>51290.000000</td>\n",
       "      <td>51290.000000</td>\n",
       "      <td>51290.000000</td>\n",
       "      <td>51290.000000</td>\n",
       "    </tr>\n",
       "    <tr>\n",
       "      <th>mean</th>\n",
       "      <td>0.244707</td>\n",
       "      <td>136.195945</td>\n",
       "      <td>136.893313</td>\n",
       "      <td>177.790914</td>\n",
       "      <td>805.616802</td>\n",
       "    </tr>\n",
       "    <tr>\n",
       "      <th>std</th>\n",
       "      <td>0.431547</td>\n",
       "      <td>80.449751</td>\n",
       "      <td>142.185213</td>\n",
       "      <td>103.954723</td>\n",
       "      <td>2717.814670</td>\n",
       "    </tr>\n",
       "    <tr>\n",
       "      <th>min</th>\n",
       "      <td>0.000000</td>\n",
       "      <td>0.000000</td>\n",
       "      <td>0.000000</td>\n",
       "      <td>0.000000</td>\n",
       "      <td>0.000000</td>\n",
       "    </tr>\n",
       "    <tr>\n",
       "      <th>25%</th>\n",
       "      <td>0.000000</td>\n",
       "      <td>58.000000</td>\n",
       "      <td>26.000000</td>\n",
       "      <td>90.000000</td>\n",
       "      <td>72.000000</td>\n",
       "    </tr>\n",
       "    <tr>\n",
       "      <th>50%</th>\n",
       "      <td>0.000000</td>\n",
       "      <td>144.000000</td>\n",
       "      <td>87.000000</td>\n",
       "      <td>179.000000</td>\n",
       "      <td>250.000000</td>\n",
       "    </tr>\n",
       "    <tr>\n",
       "      <th>75%</th>\n",
       "      <td>0.000000</td>\n",
       "      <td>211.000000</td>\n",
       "      <td>158.000000</td>\n",
       "      <td>266.000000</td>\n",
       "      <td>960.000000</td>\n",
       "    </tr>\n",
       "    <tr>\n",
       "      <th>max</th>\n",
       "      <td>3.000000</td>\n",
       "      <td>278.000000</td>\n",
       "      <td>527.000000</td>\n",
       "      <td>364.000000</td>\n",
       "      <td>120000.000000</td>\n",
       "    </tr>\n",
       "  </tbody>\n",
       "</table>\n",
       "</div>"
      ],
      "text/plain": [
       "          ORDERTYPE      CUSTOMER      ITEMCODE     ORDERDATE  \\\n",
       "count  51290.000000  51290.000000  51290.000000  51290.000000   \n",
       "mean       0.244707    136.195945    136.893313    177.790914   \n",
       "std        0.431547     80.449751    142.185213    103.954723   \n",
       "min        0.000000      0.000000      0.000000      0.000000   \n",
       "25%        0.000000     58.000000     26.000000     90.000000   \n",
       "50%        0.000000    144.000000     87.000000    179.000000   \n",
       "75%        0.000000    211.000000    158.000000    266.000000   \n",
       "max        3.000000    278.000000    527.000000    364.000000   \n",
       "\n",
       "       OREDEREDQUANTITY  \n",
       "count      51290.000000  \n",
       "mean         805.616802  \n",
       "std         2717.814670  \n",
       "min            0.000000  \n",
       "25%           72.000000  \n",
       "50%          250.000000  \n",
       "75%          960.000000  \n",
       "max       120000.000000  "
      ]
     },
     "execution_count": 20,
     "metadata": {},
     "output_type": "execute_result"
    }
   ],
   "source": [
    "df.describe()"
   ]
  },
  {
   "cell_type": "code",
   "execution_count": 21,
   "metadata": {},
   "outputs": [],
   "source": [
    "# Selecting the predictor variables\n",
    "\n",
    "x=df.iloc[:,:-1].values"
   ]
  },
  {
   "cell_type": "code",
   "execution_count": 22,
   "metadata": {},
   "outputs": [],
   "source": [
    "# Selecting class variable\n",
    "\n",
    "y=df.iloc[:,4].values"
   ]
  },
  {
   "cell_type": "code",
   "execution_count": 23,
   "metadata": {},
   "outputs": [],
   "source": [
    "# Splitting the data in train and test.\n",
    "\n",
    "from sklearn.cross_validation import train_test_split"
   ]
  },
  {
   "cell_type": "code",
   "execution_count": 24,
   "metadata": {},
   "outputs": [],
   "source": [
    "xtrain,xtest,ytrain,ytest=train_test_split(x,y,test_size=0.3,random_state=10)"
   ]
  },
  {
   "cell_type": "code",
   "execution_count": 25,
   "metadata": {},
   "outputs": [],
   "source": [
    "# Selecting the Classifier\n",
    "\n",
    "from sklearn.ensemble import RandomForestRegressor"
   ]
  },
  {
   "cell_type": "code",
   "execution_count": 26,
   "metadata": {},
   "outputs": [],
   "source": [
    "r=RandomForestRegressor()"
   ]
  },
  {
   "cell_type": "code",
   "execution_count": 27,
   "metadata": {},
   "outputs": [
    {
     "data": {
      "text/plain": [
       "RandomForestRegressor(bootstrap=True, criterion='mse', max_depth=None,\n",
       "           max_features='auto', max_leaf_nodes=None,\n",
       "           min_impurity_decrease=0.0, min_impurity_split=None,\n",
       "           min_samples_leaf=1, min_samples_split=2,\n",
       "           min_weight_fraction_leaf=0.0, n_estimators=10, n_jobs=1,\n",
       "           oob_score=False, random_state=None, verbose=0, warm_start=False)"
      ]
     },
     "execution_count": 27,
     "metadata": {},
     "output_type": "execute_result"
    }
   ],
   "source": [
    "r.fit(xtrain,ytrain)"
   ]
  },
  {
   "cell_type": "code",
   "execution_count": 28,
   "metadata": {},
   "outputs": [],
   "source": [
    "ypredict=r.predict(xtest)"
   ]
  },
  {
   "cell_type": "code",
   "execution_count": 29,
   "metadata": {},
   "outputs": [],
   "source": [
    "# Using R-sqaured or coefficient of deteremination is a statistical measure of how close the data are to the fitted \n",
    "# regression line\n",
    "\n",
    "from sklearn.metrics import r2_score,mean_squared_error"
   ]
  },
  {
   "cell_type": "code",
   "execution_count": 30,
   "metadata": {},
   "outputs": [
    {
     "data": {
      "text/plain": [
       "0.9267622668207753"
      ]
     },
     "execution_count": 30,
     "metadata": {},
     "output_type": "execute_result"
    }
   ],
   "source": [
    "r2_score(ypredict,ytest)"
   ]
  },
  {
   "cell_type": "code",
   "execution_count": 33,
   "metadata": {},
   "outputs": [],
   "source": [
    "mean_error=np.sqrt(mean_squared_error(ypredict,ytest))"
   ]
  },
  {
   "cell_type": "code",
   "execution_count": 34,
   "metadata": {},
   "outputs": [
    {
     "data": {
      "text/plain": [
       "686.7232930194098"
      ]
     },
     "execution_count": 34,
     "metadata": {},
     "output_type": "execute_result"
    }
   ],
   "source": [
    "mean_error"
   ]
  },
  {
   "cell_type": "code",
   "execution_count": null,
   "metadata": {},
   "outputs": [],
   "source": []
  }
 ],
 "metadata": {
  "kernelspec": {
   "display_name": "Python 3",
   "language": "python",
   "name": "python3"
  },
  "language_info": {
   "codemirror_mode": {
    "name": "ipython",
    "version": 3
   },
   "file_extension": ".py",
   "mimetype": "text/x-python",
   "name": "python",
   "nbconvert_exporter": "python",
   "pygments_lexer": "ipython3",
   "version": "3.6.4"
  }
 },
 "nbformat": 4,
 "nbformat_minor": 2
}
