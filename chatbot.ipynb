{
 "cells": [
  {
   "cell_type": "code",
   "execution_count": null,
   "metadata": {},
   "outputs": [],
   "source": [
    "from chatterbot import ChatBot"
   ]
  },
  {
   "cell_type": "code",
   "execution_count": null,
   "metadata": {},
   "outputs": [],
   "source": [
    "from chatterbot.trainers import ListTrainer"
   ]
  },
  {
   "cell_type": "code",
   "execution_count": null,
   "metadata": {},
   "outputs": [],
   "source": [
    "import os"
   ]
  },
  {
   "cell_type": "code",
   "execution_count": null,
   "metadata": {},
   "outputs": [],
   "source": [
    "bot=ChatBot('Bot')\n",
    "bot.set_trainer(ListTrainer)\n",
    "\n",
    "for files in os.listdir('C:/Users/reddyvari.n/Downloads/Algorithms_practiced/chatterbot-corpus-master/chatterbot-corpus-master/chatterbot_corpus/data/english/'):\n",
    "    data=open('C:/Users/reddyvari.n/Downloads/Algorithms_practiced/chatterbot-corpus-master/chatterbot-corpus-master/chatterbot_corpus/data/english/'+ files,'r').readlines()\n",
    "    bot.train(data)\n",
    "    \n",
    "while True:\n",
    "    message=input('you')\n",
    "    if message.strip() != 'Bye':\n",
    "        reply=bot.get_response('message')\n",
    "        print('ChatBot:',reply)\n",
    "    if message.strip() == 'Bye':\n",
    "            print('ChatBot: Bye')\n",
    "            break\n",
    "              \n",
    "        \n",
    "\n",
    "    "
   ]
  },
  {
   "cell_type": "code",
   "execution_count": null,
   "metadata": {},
   "outputs": [],
   "source": [
    "import random\n",
    "\n",
    "greetings = ['hola', 'hello', 'hi', 'Hi', 'hey!','hey']\n",
    "random_greeting = random.choice(greetings)\n",
    "\n",
    "question = ['How are you?','How are you doing?']\n",
    "responses = ['Okay',\"I'm fine\"]\n",
    "random_response = random.choice(responses)\n",
    "\n",
    "\n",
    "while True:\n",
    "\tuserInput = input(\">>> \")\n",
    "\tif userInput in greetings:\n",
    "\t\tprint(random_greeting)\n",
    "\telif userInput in question:\n",
    "\t\tprint(random_response)\n",
    "\telse:\n",
    "\t\tprint(\"I did not understand what you said\")"
   ]
  },
  {
   "cell_type": "code",
   "execution_count": null,
   "metadata": {},
   "outputs": [],
   "source": []
  },
  {
   "cell_type": "code",
   "execution_count": null,
   "metadata": {},
   "outputs": [],
   "source": []
  },
  {
   "cell_type": "code",
   "execution_count": null,
   "metadata": {},
   "outputs": [],
   "source": []
  },
  {
   "cell_type": "code",
   "execution_count": null,
   "metadata": {},
   "outputs": [],
   "source": []
  },
  {
   "cell_type": "code",
   "execution_count": null,
   "metadata": {},
   "outputs": [],
   "source": []
  }
 ],
 "metadata": {
  "kernelspec": {
   "display_name": "Python 3",
   "language": "python",
   "name": "python3"
  },
  "language_info": {
   "codemirror_mode": {
    "name": "ipython",
    "version": 3
   },
   "file_extension": ".py",
   "mimetype": "text/x-python",
   "name": "python",
   "nbconvert_exporter": "python",
   "pygments_lexer": "ipython3",
   "version": "3.6.4"
  }
 },
 "nbformat": 4,
 "nbformat_minor": 2
}
